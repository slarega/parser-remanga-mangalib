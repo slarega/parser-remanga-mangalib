{
 "cells": [
  {
   "cell_type": "code",
   "execution_count": 1,
   "outputs": [
    {
     "data": {
      "text/plain": "True"
     },
     "execution_count": 1,
     "metadata": {},
     "output_type": "execute_result"
    }
   ],
   "source": [
    "from bs4 import BeautifulSoup, Tag\n",
    "import undetected_chromedriver as uc\n",
    "from selenium.webdriver.common.by import By\n",
    "from selenium.webdriver.common.action_chains import ActionChains\n",
    "from selenium.webdriver.common.keys import Keys\n",
    "\n",
    "import openpyxl\n",
    "import time\n",
    "import os\n",
    "import re\n",
    "\n",
    "from dotenv import load_dotenv #python-dotenv\n",
    "load_dotenv()"
   ],
   "metadata": {
    "collapsed": false,
    "pycharm": {
     "name": "#%%\n"
    },
    "ExecuteTime": {
     "end_time": "2024-09-16T19:12:12.867587100Z",
     "start_time": "2024-09-16T19:12:12.032979Z"
    }
   }
  },
  {
   "cell_type": "code",
   "outputs": [],
   "source": [
    "mangalib_id = os.environ.get('MANGALIB_ID')\n",
    "\n",
    "def create_bookmarks_dict_mangalib(soup, driver):\n",
    "    \"\"\"Возвращает словарь закладок\"\"\"\n",
    "    full_bookmarks = soup.findAll('div', {'class': 'menu__item'})\n",
    "    bookmarks_dict = {}\n",
    "    \n",
    "    for i in range(2,len(full_bookmarks)-1):\n",
    "        driver.find_element('xpath',f'//*[@id=\"main-page\"]/div/div/div[2]/div[1]/div/div[1]/div[1]/div[{i}]').click()\n",
    "        id = driver.current_url.split('=')[1]\n",
    "        data = full_bookmarks[i-1].text.strip().rstrip().lstrip()\n",
    "        data = re.split(r'(\\d+)', data.strip())\n",
    "        data[0] = data[0].strip()\n",
    "        data = data[0:2]\n",
    "        \n",
    "        data.append(int(data[1])//17 + 2)\n",
    "        bookmarks_dict[id] = data\n",
    "    \n",
    "    del bookmarks_dict['2'] #В планах\n",
    "    return bookmarks_dict\n",
    "\n",
    "\n",
    "def check_bookmarks_dict_mangalib(bookmarks_dict, driver):\n",
    "    \"\"\"проверка bookmarks_dir, созданного create_bookmarks_dir_mangalib()\"\"\"\n",
    "    for id, value in bookmarks_dict.items():\n",
    "\n",
    "        #открываем сайт закладки\n",
    "        driver.switch_to.new_window()\n",
    "        driver.get(f'https://mangalib.me/user/{mangalib_id}?folder={id}')\n",
    "        time.sleep(1)\n",
    "\n",
    "        #переход к нижней части прогруженной страницы\n",
    "        scrolls = 0\n",
    "        while scrolls < value[2]:\n",
    "            driver.execute_script(\"window.scrollTo(0, document.body.scrollHeight);\")\n",
    "            time.sleep(2)\n",
    "            scrolls += 1\n",
    "\n",
    "        #получение всех div с классом '', содержат информацию по тайтлам\n",
    "        soup_bookmarks = BeautifulSoup(driver.page_source)\n",
    "        title_blocks = soup_bookmarks.findAll('div', {'class': 'bookmark-item'})\n",
    "\n",
    "        #[url на тайтл, дата добавления в закладки]\n",
    "        title_list = []\n",
    "        for block in title_blocks:\n",
    "            url = block.find('a')['href']\n",
    "            added = block.find('div', {'class': 'bookmark-meta-item__value'}).text\n",
    "            added = added.rstrip().lstrip()\n",
    "            title_list.append([url, added])\n",
    "\n",
    "        if len(title_blocks) != int(value[1]):\n",
    "            print(f'Error: Закладка \"{value[0]}\"\\n Ожидалось {value[1]}, получено {len(title_list)} тайтлов\\n    Измените {value[2]} - количество scrolls в bookmarks_dict')\n",
    "            break\n",
    "\n",
    "        #закрываем сайт закладки, возвращаемся на исходную вкладку\n",
    "        driver.close()\n",
    "        driver.switch_to.window(driver.window_handles[0])\n",
    "\n",
    "    print('Количество scroll подобрано правильно')\n",
    "\n",
    "\n",
    "def delete_cache(driver):\n",
    "    \"\"\"очистка кэша driver\"\"\"\n",
    "    driver.switch_to.new_window() # открываем новую вкладку \n",
    "    driver.get('chrome://settings/clearBrowserData') # Открываем настройки chrome\n",
    "    time.sleep(0.2)\n",
    "    actions = ActionChains(driver)\n",
    "    actions.key_down(Keys.SHIFT).send_keys(Keys.TAB * 6).key_up(Keys.SHIFT)  #select \"all time\" browsing data\n",
    "    actions.send_keys(Keys.DOWN * 5 +  Keys.TAB * 7 + Keys.ENTER)  #click on \"clear data\" button\n",
    "    time.sleep(0.2)\n",
    "    \n",
    "    # закрываем новую вкладку, возвращаемся на исходную вкладку\n",
    "    driver.close()  \n",
    "    driver.switch_to.window(driver.window_handles[0])  \n",
    "    \n",
    "    \n",
    "def parse_to_excel(bookmarks_dict, driver):\n",
    "    \"\"\"Запись информации по тайтлам в excel\"\"\"\n",
    "    \n",
    "    wb = openpyxl.Workbook()\n",
    "    ws = wb.active\n",
    "    ws.append(['Name_ru', 'Name_eng', 'Type', 'Date_added', 'Alternative_names'])\n",
    "    \n",
    "    num_cache = 1\n",
    "    for id, value in bookmarks_dict.items():\n",
    "        driver.get(f'https://mangalib.me/user/{mangalib_id}?folder={id}') #открываем сайт закладки\n",
    "        time.sleep(0.2)\n",
    "    \n",
    "        #переход к нижней части страницы\n",
    "        scrolls = 0\n",
    "        while scrolls < value[2]:\n",
    "            driver.execute_script(\"window.scrollTo(0, document.body.scrollHeight);\")\n",
    "            time.sleep(0.5)\n",
    "            scrolls += 1\n",
    "        time.sleep(0.1)\n",
    "        \n",
    "        #получение всех div с классом '', содержат информацию по тайтлам\n",
    "        location_blocks = BeautifulSoup(driver.page_source).findAll('div', {'class': 'bookmark-item'})\n",
    "        for block in location_blocks:\n",
    "            url = block.find('a')['href'].split('=')[0]+'=info'\n",
    "            added = block.find('div', {'class': 'bookmark-meta-item__value'}).text.rstrip().lstrip()\n",
    "            driver.get(f'https://mangalib.me{url}')\n",
    "            time.sleep(2)\n",
    "            \n",
    "            #данные\n",
    "            title_data = BeautifulSoup(driver.page_source)\n",
    "            name_ru = title_data.find('div', {'class': 'media-name__main'})\n",
    "            name_eng = title_data.find('div', {'class': 'media-name__alt'})\n",
    "            title_type = title_data.find('div', {'class': 'media-info-list__value'})\n",
    "            alter_names_soup = title_data.find('div', {'class': 'media-info-list__item media-info-list__item_alt-names'})\n",
    "            if isinstance(alter_names_soup, Tag):\n",
    "                alter_names = alter_names_soup.contents[3].getText().rstrip().lstrip().replace(\"\\n\", \";\")\n",
    "            else: alter_names = ''\n",
    "                \n",
    "            result = [name_ru.text, name_eng.text, title_type.text, added, alter_names]\n",
    "            ws.append(result)\n",
    "            time.sleep(0.3)\n",
    "            \n",
    "            # очистка кэша\n",
    "            if num_cache % 30==0:\n",
    "                delete_cache(driver)\n",
    "            num_cache+=1\n",
    "            \n",
    "    wb.save('parse-data/parse_mangalib1.xlsx')\n",
    "    \n",
    "    print('Данные сохранены')"
   ],
   "metadata": {
    "collapsed": false,
    "ExecuteTime": {
     "end_time": "2024-09-16T19:12:17.246252300Z",
     "start_time": "2024-09-16T19:12:17.241052800Z"
    }
   },
   "execution_count": 2
  },
  {
   "cell_type": "code",
   "outputs": [],
   "source": [
    "email = os.environ.get('GOOGLE_LOG')\n",
    "password = os.environ.get('GOOGLE_PASS')\n",
    "\n",
    "#запуск Chrome\n",
    "options = uc.ChromeOptions()\n",
    "options.page_load_strategy = 'none'\n",
    "chrome = uc.Chrome(options=options)\n",
    "\n",
    "#авторизация Google\n",
    "chrome.get('https://accounts.google.com/')\n",
    "time.sleep(1)\n",
    "chrome.find_element(By.XPATH, '//*[@id=\"identifierId\"]').send_keys(email)\n",
    "time.sleep(0.5)\n",
    "chrome.find_element(By.XPATH, '//*[@id=\"identifierNext\"]/div/button/span').click()\n",
    "time.sleep(10)\n",
    "chrome.find_element(By.XPATH, '//*[@id=\"password\"]/div[1]/div/div[1]/input').send_keys(password)\n",
    "time.sleep(0.5)\n",
    "chrome.find_element(By.XPATH, '//*[@id=\"passwordNext\"]/div/button/span').click()\n",
    "#в моем случае надо зайти в Youtube и подтвердить "
   ],
   "metadata": {
    "collapsed": false,
    "ExecuteTime": {
     "end_time": "2024-09-16T19:12:38.817611500Z",
     "start_time": "2024-09-16T19:12:24.988926200Z"
    }
   },
   "execution_count": 3
  },
  {
   "cell_type": "code",
   "outputs": [],
   "source": [
    "#авторизация\n",
    "chrome.get(f'https://lib.social/auth/google?from=http%3A%2F%2Fmangalib.me%2F%3Fsection%3Dhome-updates-{mangalib_id}')\n",
    "time.sleep(5)\n",
    "chrome.get(f'https://mangalib.me/user/{mangalib_id}?folder=all') #закладки \"Все\""
   ],
   "metadata": {
    "collapsed": false,
    "ExecuteTime": {
     "end_time": "2024-09-16T19:13:03.202006500Z",
     "start_time": "2024-09-16T19:12:58.196490300Z"
    }
   },
   "execution_count": 4
  },
  {
   "cell_type": "code",
   "outputs": [
    {
     "name": "stdout",
     "output_type": "stream",
     "text": [
      "Данные сохранены\n"
     ]
    }
   ],
   "source": [
    "soup_ = BeautifulSoup(chrome.page_source)\n",
    "time.sleep(0.5)\n",
    "\n",
    "#parse\n",
    "bookmarks_dict1 = create_bookmarks_dict_mangalib(soup_, chrome)\n",
    "# check_bookmarks_dict_mangalib(bookmarks_dict1, driver)\n",
    "parse_to_excel(bookmarks_dict1, chrome)"
   ],
   "metadata": {
    "collapsed": false,
    "ExecuteTime": {
     "end_time": "2024-09-16T19:24:46.930648Z",
     "start_time": "2024-09-16T19:13:10.275167700Z"
    }
   },
   "execution_count": 5
  },
  {
   "cell_type": "code",
   "outputs": [],
   "source": [
    "#закрыть браузер\n",
    "chrome.quit()"
   ],
   "metadata": {
    "collapsed": false
   }
  }
 ],
 "metadata": {
  "kernelspec": {
   "display_name": "Python 3",
   "language": "python",
   "name": "python3"
  },
  "language_info": {
   "codemirror_mode": {
    "name": "ipython",
    "version": 2
   },
   "file_extension": ".py",
   "mimetype": "text/x-python",
   "name": "python",
   "nbconvert_exporter": "python",
   "pygments_lexer": "ipython2",
   "version": "2.7.6"
  }
 },
 "nbformat": 4,
 "nbformat_minor": 0
}
