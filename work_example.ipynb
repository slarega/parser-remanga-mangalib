{
 "cells": [
  {
   "cell_type": "markdown",
   "source": [
    "# Пример работы парсеров"
   ],
   "metadata": {
    "collapsed": false
   },
   "id": "caf2cfe57b3ccd9a"
  },
  {
   "cell_type": "code",
   "outputs": [],
   "source": [
    "from chrome_webbrowser import Create_Chrome\n",
    "from parser_remanga import ParserRemanga\n",
    "from parser_mangalib import ParserMangalib"
   ],
   "metadata": {
    "collapsed": false,
    "ExecuteTime": {
     "end_time": "2024-09-16T17:41:52.800660500Z",
     "start_time": "2024-09-16T17:41:52.343931600Z"
    }
   },
   "id": "884e589b016a3721",
   "execution_count": 1
  },
  {
   "cell_type": "markdown",
   "source": [
    "## Создание браузера и авторизация\n",
    "Вынесено отдельно т.к. если есть двойная аутентификация, то необходимо пройти ее вручную"
   ],
   "metadata": {
    "collapsed": false
   },
   "id": "73cc6c30d2c9c777"
  },
  {
   "cell_type": "code",
   "outputs": [],
   "source": [
    "chrome = Create_Chrome()"
   ],
   "metadata": {
    "collapsed": false,
    "ExecuteTime": {
     "end_time": "2024-09-16T17:42:16.584049200Z",
     "start_time": "2024-09-16T17:41:56.236021Z"
    }
   },
   "id": "e51190ed1123de90",
   "execution_count": 2
  },
  {
   "cell_type": "markdown",
   "source": [
    "## Remanga"
   ],
   "metadata": {
    "collapsed": false
   },
   "id": "a8ba23420093354b"
  },
  {
   "cell_type": "code",
   "execution_count": 3,
   "id": "initial_id",
   "metadata": {
    "collapsed": true,
    "ExecuteTime": {
     "end_time": "2024-09-16T15:53:58.138071700Z",
     "start_time": "2024-09-16T15:45:01.371921400Z"
    }
   },
   "outputs": [
    {
     "data": {
      "text/plain": "'Remanga: получены данные 253 тайлтлов из 253'"
     },
     "execution_count": 3,
     "metadata": {},
     "output_type": "execute_result"
    }
   ],
   "source": [
    "parser = ParserRemanga(chrome)\n",
    "parser.start()"
   ]
  },
  {
   "cell_type": "markdown",
   "source": [
    "## Mangalib"
   ],
   "metadata": {
    "collapsed": false
   },
   "id": "b4241b2051b5e37a"
  },
  {
   "cell_type": "code",
   "outputs": [],
   "source": [
    "parser = ParserMangalib(chrome)\n",
    "parser.auth()"
   ],
   "metadata": {
    "collapsed": false,
    "ExecuteTime": {
     "end_time": "2024-09-16T17:43:55.439067300Z",
     "start_time": "2024-09-16T17:43:45.342756800Z"
    }
   },
   "id": "17dad6fbd01b75ec",
   "execution_count": 3
  },
  {
   "cell_type": "code",
   "outputs": [
    {
     "data": {
      "text/plain": "'Mangalib: получены данные 324 тайлтлов из 324'"
     },
     "execution_count": 6,
     "metadata": {},
     "output_type": "execute_result"
    }
   ],
   "source": [
    "parser.start()"
   ],
   "metadata": {
    "collapsed": false,
    "ExecuteTime": {
     "end_time": "2024-09-16T18:18:33.970039400Z",
     "start_time": "2024-09-16T17:56:09.643403500Z"
    }
   },
   "id": "fc31be5632056cac",
   "execution_count": 6
  },
  {
   "cell_type": "markdown",
   "source": [
    "## закрыть браузер\n"
   ],
   "metadata": {
    "collapsed": false
   },
   "id": "2acbda9e4dd55a60"
  },
  {
   "cell_type": "code",
   "outputs": [],
   "source": [
    "chrome.quit()"
   ],
   "metadata": {
    "collapsed": false,
    "ExecuteTime": {
     "end_time": "2024-09-16T18:19:52.091149900Z",
     "start_time": "2024-09-16T18:19:51.602528Z"
    }
   },
   "id": "6889be16b511d589",
   "execution_count": 7
  }
 ],
 "metadata": {
  "kernelspec": {
   "display_name": "Python 3",
   "language": "python",
   "name": "python3"
  },
  "language_info": {
   "codemirror_mode": {
    "name": "ipython",
    "version": 2
   },
   "file_extension": ".py",
   "mimetype": "text/x-python",
   "name": "python",
   "nbconvert_exporter": "python",
   "pygments_lexer": "ipython2",
   "version": "2.7.6"
  }
 },
 "nbformat": 4,
 "nbformat_minor": 5
}
